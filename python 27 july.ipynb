{
 "cells": [
  {
   "cell_type": "code",
   "execution_count": 2,
   "id": "ab1cd2d0",
   "metadata": {},
   "outputs": [],
   "source": [
    "# Write a program to display all prime numbers within a range."
   ]
  },
  {
   "cell_type": "code",
   "execution_count": 7,
   "id": "d548b734",
   "metadata": {},
   "outputs": [
    {
     "name": "stdout",
     "output_type": "stream",
     "text": [
      "enter the input:20\n",
      "2\n",
      "3\n",
      "5\n",
      "7\n",
      "11\n",
      "13\n",
      "17\n",
      "19\n"
     ]
    }
   ],
   "source": [
    "n=int(input(\"enter the input:\"))\n",
    "for i in range(2,n+1):\n",
    "    for j in range(2,i+1):\n",
    "        if i%j==0:\n",
    "            break\n",
    "    if i==j:\n",
    "        print(i)\n"
   ]
  },
  {
   "cell_type": "code",
   "execution_count": null,
   "id": "cf6b44dc",
   "metadata": {},
   "outputs": [],
   "source": []
  },
  {
   "cell_type": "code",
   "execution_count": 9,
   "id": "ac211947",
   "metadata": {},
   "outputs": [],
   "source": [
    "# fibonacci series"
   ]
  },
  {
   "cell_type": "code",
   "execution_count": 1,
   "id": "82510f39",
   "metadata": {},
   "outputs": [
    {
     "name": "stdout",
     "output_type": "stream",
     "text": [
      "0\n",
      "1\n",
      "1\n",
      "2\n",
      "3\n",
      "5\n",
      "8\n",
      "13\n",
      "21\n",
      "34\n"
     ]
    }
   ],
   "source": [
    "n=0\n",
    "n1=1\n",
    "for i in range(10):\n",
    "    print(n)\n",
    "    n,n1=n1,n+n1"
   ]
  },
  {
   "cell_type": "code",
   "execution_count": null,
   "id": "10ceaea6",
   "metadata": {},
   "outputs": [],
   "source": []
  },
  {
   "cell_type": "code",
   "execution_count": 10,
   "id": "37bbebee",
   "metadata": {},
   "outputs": [],
   "source": [
    "# Find the factorial of a given number."
   ]
  },
  {
   "cell_type": "code",
   "execution_count": 23,
   "id": "0a20bce5",
   "metadata": {},
   "outputs": [
    {
     "name": "stdout",
     "output_type": "stream",
     "text": [
      "enter the input:10\n",
      "3628800\n"
     ]
    }
   ],
   "source": [
    "\n",
    "n=int(input(\"enter the input:\"))\n",
    "factorial=1\n",
    "for i in range(1,n+1): \n",
    "    factorial*=i\n",
    "print(factorial)\n"
   ]
  },
  {
   "cell_type": "code",
   "execution_count": null,
   "id": "484f612e",
   "metadata": {},
   "outputs": [],
   "source": []
  },
  {
   "cell_type": "code",
   "execution_count": 19,
   "id": "8721a8eb",
   "metadata": {},
   "outputs": [],
   "source": [
    "# Reverse a given integer number."
   ]
  },
  {
   "cell_type": "code",
   "execution_count": 2,
   "id": "6fe7f1af",
   "metadata": {},
   "outputs": [
    {
     "name": "stdout",
     "output_type": "stream",
     "text": [
      "enter a number: 100\n",
      "001\n"
     ]
    }
   ],
   "source": [
    "num=int(input(\"enter a number: \"))\n",
    "print(str(num)[::-1])"
   ]
  },
  {
   "cell_type": "code",
   "execution_count": null,
   "id": "840bf031",
   "metadata": {},
   "outputs": [],
   "source": []
  },
  {
   "cell_type": "code",
   "execution_count": 14,
   "id": "6990a226",
   "metadata": {},
   "outputs": [],
   "source": [
    "# Use a loop to display elements from a given list present at odd index positions"
   ]
  },
  {
   "cell_type": "code",
   "execution_count": 20,
   "id": "ee2a30ab",
   "metadata": {},
   "outputs": [
    {
     "name": "stdout",
     "output_type": "stream",
     "text": [
      "[30, 303, 50]\n",
      "me\n"
     ]
    }
   ],
   "source": [
    "n=[10,30,50,303,40,50,90]\n",
    "print(n[1::2])\n",
    "\n",
    "n=\"ameem\"\n",
    "print(n[1:len(n):2])\n",
    "    "
   ]
  },
  {
   "cell_type": "code",
   "execution_count": null,
   "id": "b439322e",
   "metadata": {},
   "outputs": [],
   "source": []
  }
 ],
 "metadata": {
  "kernelspec": {
   "display_name": "Python 3 (ipykernel)",
   "language": "python",
   "name": "python3"
  },
  "language_info": {
   "codemirror_mode": {
    "name": "ipython",
    "version": 3
   },
   "file_extension": ".py",
   "mimetype": "text/x-python",
   "name": "python",
   "nbconvert_exporter": "python",
   "pygments_lexer": "ipython3",
   "version": "3.10.9"
  }
 },
 "nbformat": 4,
 "nbformat_minor": 5
}
